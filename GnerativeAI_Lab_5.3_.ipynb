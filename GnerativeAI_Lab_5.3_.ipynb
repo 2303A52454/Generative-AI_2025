{
  "nbformat": 4,
  "nbformat_minor": 0,
  "metadata": {
    "colab": {
      "provenance": [],
      "authorship_tag": "ABX9TyPr63EiomT7XzP13lBCVJ3D",
      "include_colab_link": true
    },
    "kernelspec": {
      "name": "python3",
      "display_name": "Python 3"
    },
    "language_info": {
      "name": "python"
    }
  },
  "cells": [
    {
      "cell_type": "markdown",
      "metadata": {
        "id": "view-in-github",
        "colab_type": "text"
      },
      "source": [
        "<a href=\"https://colab.research.google.com/github/2303A52454/Generative-AI_2025/blob/main/GnerativeAI_Lab_5.3_.ipynb\" target=\"_parent\"><img src=\"https://colab.research.google.com/assets/colab-badge.svg\" alt=\"Open In Colab\"/></a>"
      ]
    },
    {
      "cell_type": "code",
      "execution_count": 1,
      "metadata": {
        "colab": {
          "base_uri": "https://localhost:8080/"
        },
        "id": "c-ygr5_vhl4h",
        "outputId": "ea12f8f6-9d63-4ee9-ab39-034ed68b5302"
      },
      "outputs": [
        {
          "output_type": "stream",
          "name": "stdout",
          "text": [
            "Multi-Layer ANN:\n",
            "Final Hidden Weights: [[0.54713634 0.7034433  0.59968455]\n",
            " [0.5420489  0.40251458 0.64032575]]\n",
            "Final Hidden Bias: [0.4364301  0.88237884 0.96117323]\n",
            "Final Output Weights: [[-0.03679358]\n",
            " [ 0.36253026]\n",
            " [ 0.09171891]]\n",
            "Final Output Bias: [0.11598186]\n",
            "Test MSE: 0.00047881329447415743\n",
            "Enter x1: 2\n",
            "Enter x2: 3\n",
            "Predicted Output: [0.52275724]\n"
          ]
        }
      ],
      "source": [
        "import numpy as np\n",
        "\n",
        "x_train = np.array([\n",
        "    [1, 2],\n",
        "    [2, 3],\n",
        "    [5, 6],\n",
        "    [6, 7],\n",
        "    [7, 8],\n",
        "    [8, 9]\n",
        "])\n",
        "y_train = np.array([0.4140, 0.4611, 0.5501, 0.5656, 0.5765, 0.5840])\n",
        "\n",
        "x_test = np.array([\n",
        "    [3, 4],\n",
        "    [4, 5]\n",
        "])\n",
        "y_test = np.array([0.4992, 0.5285])\n",
        "\n",
        "np.random.seed(0)\n",
        "w_hidden = np.random.rand(2, 3)\n",
        "b_hidden = np.random.rand(3)\n",
        "w_output = np.random.rand(3, 1)\n",
        "b_output = np.random.rand(1)\n",
        "learning_rate = 0.01\n",
        "epochs = 1000\n",
        "\n",
        "def sigmoid(x):\n",
        "    return 1 / (1 + np.exp(-x))\n",
        "\n",
        "def sigmoid_derivative(x):\n",
        "    return x * (1 - x)\n",
        "\n",
        "def linear_activation(x):\n",
        "    return x\n",
        "\n",
        "for epoch in range(epochs):\n",
        "    hidden_input = np.dot(x_train, w_hidden) + b_hidden\n",
        "    hidden_output = sigmoid(hidden_input)\n",
        "    final_input = np.dot(hidden_output, w_output) + b_output\n",
        "    final_output = linear_activation(final_input)\n",
        "\n",
        "    error = final_output.flatten() - y_train\n",
        "    output_grad = error.reshape(-1, 1) / len(y_train)\n",
        "    w_output_grad = np.dot(hidden_output.T, output_grad)\n",
        "    b_output_grad = np.sum(output_grad)\n",
        "    hidden_error = np.dot(output_grad, w_output.T) * sigmoid_derivative(hidden_output)\n",
        "    w_hidden_grad = np.dot(x_train.T, hidden_error)\n",
        "    b_hidden_grad = np.sum(hidden_error, axis=0)\n",
        "\n",
        "    w_output -= learning_rate * w_output_grad\n",
        "    b_output -= learning_rate * b_output_grad\n",
        "    w_hidden -= learning_rate * w_hidden_grad\n",
        "    b_hidden -= learning_rate * b_hidden_grad\n",
        "\n",
        "hidden_test = sigmoid(np.dot(x_test, w_hidden) + b_hidden)\n",
        "y_test_pred = np.dot(hidden_test, w_output) + b_output\n",
        "test_mse = np.mean((y_test_pred.flatten() - y_test) ** 2)\n",
        "\n",
        "print(\"Multi-Layer ANN:\")\n",
        "print(f\"Final Hidden Weights: {w_hidden}\")\n",
        "print(f\"Final Hidden Bias: {b_hidden}\")\n",
        "print(f\"Final Output Weights: {w_output}\")\n",
        "print(f\"Final Output Bias: {b_output}\")\n",
        "print(f\"Test MSE: {test_mse}\")\n",
        "\n",
        "user_input = np.array([float(input(f\"Enter x{i+1}: \")) for i in range(2)])\n",
        "hidden_user = sigmoid(np.dot(user_input, w_hidden) + b_hidden)\n",
        "prediction = np.dot(hidden_user, w_output) + b_output\n",
        "print(f\"Predicted Output: {prediction.flatten()}\")\n"
      ]
    }
  ]
}