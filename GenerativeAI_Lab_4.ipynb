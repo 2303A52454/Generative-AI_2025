{
  "nbformat": 4,
  "nbformat_minor": 0,
  "metadata": {
    "colab": {
      "provenance": [],
      "authorship_tag": "ABX9TyNmf2IsSk4pRbRejcuLODf5",
      "include_colab_link": true
    },
    "kernelspec": {
      "name": "python3",
      "display_name": "Python 3"
    },
    "language_info": {
      "name": "python"
    }
  },
  "cells": [
    {
      "cell_type": "markdown",
      "metadata": {
        "id": "view-in-github",
        "colab_type": "text"
      },
      "source": [
        "<a href=\"https://colab.research.google.com/github/2303A52454/Generative-AI_2025/blob/main/GenerativeAI_Lab_4.ipynb\" target=\"_parent\"><img src=\"https://colab.research.google.com/assets/colab-badge.svg\" alt=\"Open In Colab\"/></a>"
      ]
    },
    {
      "cell_type": "code",
      "execution_count": 2,
      "metadata": {
        "colab": {
          "base_uri": "https://localhost:8080/"
        },
        "id": "-3qFPV6qavuw",
        "outputId": "6becb16d-9463-4cf0-c138-0f56f4a059df"
      },
      "outputs": [
        {
          "output_type": "stream",
          "name": "stdout",
          "text": [
            "Linear Activation ANN:\n",
            "Final Weights: [0.27679242 0.33637741 0.26634847]\n",
            "Final Bias: [-0.09775181]\n",
            "Test MSE: 0.008447689970971973\n",
            "Enter x1: 0.1\n",
            "Enter x2: 0.3\n",
            "Enter x3: 0.4\n",
            "Predicted Output: [0.13738004]\n"
          ]
        }
      ],
      "source": [
        "import numpy as np\n",
        "\n",
        "x_train = np.array([\n",
        "    [0.1, 0.2, 0.3],\n",
        "    [0.2, 0.3, 0.4],\n",
        "    [0.3, 0.4, 0.5],\n",
        "    [0.5, 0.6, 0.7],\n",
        "    [0.1, 0.3, 0.5],\n",
        "    [0.2, 0.4, 0.6],\n",
        "    [0.3, 0.5, 0.7],\n",
        "    [0.4, 0.6, 0.8],\n",
        "    [0.5, 0.7, 0.1]\n",
        "])\n",
        "y_train = np.array([0.14, 0.20, 0.26, 0.38, 0.22, 0.28, 0.34, 0.40, 0.22])\n",
        "\n",
        "x_test = np.array([\n",
        "    [0.6, 0.7, 0.8],\n",
        "    [0.7, 0.8, 0.9]\n",
        "])\n",
        "y_test = np.array([0.44, 0.50])\n",
        "\n",
        "np.random.seed(0)\n",
        "w = np.random.rand(3)\n",
        "b = np.random.rand(1)\n",
        "learning_rate = 0.01\n",
        "epochs = 1000\n",
        "\n",
        "def linear_activation(x):\n",
        "    return x\n",
        "\n",
        "for epoch in range(epochs):\n",
        "    y_pred = np.dot(x_train, w) + b\n",
        "    error = y_pred - y_train\n",
        "    w_grad = np.dot(x_train.T, error) / len(x_train)\n",
        "    b_grad = np.mean(error)\n",
        "    w -= learning_rate * w_grad\n",
        "    b -= learning_rate * b_grad\n",
        "\n",
        "y_test_pred = np.dot(x_test, w) + b\n",
        "test_mse = np.mean((y_test_pred - y_test) ** 2)\n",
        "\n",
        "print(\"Linear Activation ANN:\")\n",
        "print(f\"Final Weights: {w}\")\n",
        "print(f\"Final Bias: {b}\")\n",
        "print(f\"Test MSE: {test_mse}\")\n",
        "\n",
        "user_input = np.array([float(input(f\"Enter x{i+1}: \")) for i in range(3)])\n",
        "prediction = np.dot(user_input, w) + b\n",
        "print(f\"Predicted Output: {prediction}\")\n",
        "0.6\n"
      ]
    },
    {
      "cell_type": "code",
      "source": [
        "import numpy as np\n",
        "\n",
        "x_train = np.array([\n",
        "    [0.1, 0.2, 0.3],\n",
        "    [0.2, 0.3, 0.4],\n",
        "    [0.3, 0.4, 0.5],\n",
        "    [0.5, 0.6, 0.7],\n",
        "    [0.1, 0.3, 0.5],\n",
        "    [0.2, 0.4, 0.6],\n",
        "    [0.3, 0.5, 0.7],\n",
        "    [0.4, 0.6, 0.8],\n",
        "    [0.5, 0.7, 0.1]\n",
        "])\n",
        "y_train = np.array([0.5349, 0.5498, 0.5646, 0.5939, 0.5548, 0.5695, 0.5842, 0.5987, 0.5548])\n",
        "\n",
        "x_test = np.array([\n",
        "    [0.6, 0.7, 0.8],\n",
        "    [0.7, 0.8, 0.9]\n",
        "])\n",
        "y_test = np.array([0.6083, 0.6225])\n",
        "\n",
        "np.random.seed(0)\n",
        "w = np.random.rand(3)\n",
        "b = np.random.rand(1)\n",
        "learning_rate = 0.01\n",
        "epochs = 1000\n",
        "\n",
        "def sigmoid(x):\n",
        "    return 1 / (1 + np.exp(-x))\n",
        "\n",
        "def sigmoid_derivative(x):\n",
        "    return sigmoid(x) * (1 - sigmoid(x))\n",
        "\n",
        "for epoch in range(epochs):\n",
        "    y_pred = sigmoid(np.dot(x_train, w) + b)\n",
        "    error = y_pred - y_train\n",
        "    w_grad = np.dot(x_train.T, error * sigmoid_derivative(y_pred)) / len(x_train)\n",
        "    b_grad = np.mean(error * sigmoid_derivative(y_pred))\n",
        "    w -= learning_rate * w_grad\n",
        "    b -= learning_rate * b_grad\n",
        "\n",
        "y_test_pred = sigmoid(np.dot(x_test, w) + b)\n",
        "test_mse = np.mean((y_test_pred - y_test) ** 2)\n",
        "\n",
        "print(\"Sigmoid Activation ANN:\")\n",
        "print(f\"Final Weights: {w}\")\n",
        "print(f\"Final Bias: {b}\")\n",
        "print(f\"Test MSE: {test_mse}\")\n",
        "\n",
        "user_input = np.array([float(input(f\"Enter x{i+1}: \")) for i in range(3)])\n",
        "prediction = sigmoid(np.dot(user_input, w) + b)\n",
        "print(f\"Predicted Output: {prediction}\")\n"
      ],
      "metadata": {
        "colab": {
          "base_uri": "https://localhost:8080/"
        },
        "id": "1Nh_BXn8fbC2",
        "outputId": "3e2a7a37-c088-452b-8bfb-75d8c6a6c498"
      },
      "execution_count": 3,
      "outputs": [
        {
          "output_type": "stream",
          "name": "stdout",
          "text": [
            "Sigmoid Activation ANN:\n",
            "Final Weights: [0.438708   0.54846143 0.4162343 ]\n",
            "Final Bias: [0.18516457]\n",
            "Test MSE: 0.02535153572765019\n",
            "Enter x1: 0.5\n",
            "Enter x2: 0.3\n",
            "Enter x3: 0.4\n",
            "Predicted Output: [0.67602216]\n"
          ]
        }
      ]
    }
  ]
}