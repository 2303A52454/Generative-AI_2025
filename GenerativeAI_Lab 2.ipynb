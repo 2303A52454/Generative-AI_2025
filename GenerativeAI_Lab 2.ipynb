{
  "nbformat": 4,
  "nbformat_minor": 0,
  "metadata": {
    "colab": {
      "provenance": [],
      "authorship_tag": "ABX9TyPwqsG6vcnFo+cjhhgcKgpO",
      "include_colab_link": true
    },
    "kernelspec": {
      "name": "python3",
      "display_name": "Python 3"
    },
    "language_info": {
      "name": "python"
    }
  },
  "cells": [
    {
      "cell_type": "markdown",
      "metadata": {
        "id": "view-in-github",
        "colab_type": "text"
      },
      "source": [
        "<a href=\"https://colab.research.google.com/github/2303A52454/Generative-AI_2025/blob/main/GenerativeAI_Lab%202.ipynb\" target=\"_parent\"><img src=\"https://colab.research.google.com/assets/colab-badge.svg\" alt=\"Open In Colab\"/></a>"
      ]
    },
    {
      "cell_type": "markdown",
      "source": [
        "**1.** Develop mathematical modeling for the given case study and find solution using Python\n",
        "Consider a chocolate manufacturing company that produces only two types of chocolate i.e. A and B. Both the chocolates require Milk and Choco only.\n",
        "\n",
        "To manufacture each unit of A and B, the following quantities aare\n",
        "required:\n",
        "Each unit of A requires 1 unit of Milk and 3 units of Choco\n",
        "Each unit of B requires 1 unit of Milk and 2 units of Choco\n",
        "The company kitchen has a total of 5 units of Milk and 12 ungs of\n",
        "Choco. On each sale, the company makes a profit of Rs. 6 per unit sold and Rs 5 per unit B sold. Now, the company wishes to maximize its profit. How many units of A and B should it produce respectively?"
      ],
      "metadata": {
        "id": "QizIpd6ImiA3"
      }
    },
    {
      "cell_type": "code",
      "execution_count": 1,
      "metadata": {
        "colab": {
          "base_uri": "https://localhost:8080/"
        },
        "id": "qx4-SDYAmTrA",
        "outputId": "4822d0bd-b775-49d5-b25b-371420c17a70"
      },
      "outputs": [
        {
          "output_type": "stream",
          "name": "stdout",
          "text": [
            "Optimal A: 2.00, Optimal B: 3.00, Maximum Profit: Rs. 27.00\n"
          ]
        }
      ],
      "source": [
        "from scipy.optimize import linprog\n",
        "c = [-6, -5]\n",
        "\n",
        "A = [[1, 1],\n",
        "     [3, 2]]\n",
        "b = [5, 12]\n",
        "\n",
        "bounds = [(0, None), (0, None)]  # x >= 0, y >= 0\n",
        "\n",
        "result = linprog(c, A_ub=A, b_ub=b, bounds=bounds, method='highs')\n",
        "\n",
        "if result.success:\n",
        "    print(f\"Optimal A: {result.x[0]:.2f}, Optimal B: {result.x[1]:.2f}, Maximum Profit: Rs. {-result.fun:.2f}\")\n",
        "else:\n",
        "    print(\"Optimization failed.\")"
      ]
    },
    {
      "cell_type": "markdown",
      "source": [
        "**2**.  Develop mathematical modeling for the given case study and find solution using Python\n",
        "A farmer has recently acquired a 110 hectares piece of land. He has decided to grow Wheat and barley on that land. Due to the quality of the and the region's excellent climate, the entire production of Wheat and Barley can be sold. He wants to know how to plant each variety in the 110 hectares, given the costs, net profits and labor requirements according to the data shown below:\n",
        "Crop\n",
        "Cost (Rs/Hec)\n",
        "7000\n",
        "Profit (Price Hec)\n",
        "50\n",
        "120\n",
        "Man-days/Hed\n",
        "10\n",
        "30\n",
        "Wheat\n",
        "Barley\n",
        "2000\n",
        "The farmer has a budget of Rs. 7,00,000 and availability of 1,200 man-days during the planning horizon Find the optimal solution an the optimal value.\n"
      ],
      "metadata": {
        "id": "PGM5AhDEmtzi"
      }
    },
    {
      "cell_type": "code",
      "source": [
        "pip install pulp"
      ],
      "metadata": {
        "colab": {
          "base_uri": "https://localhost:8080/"
        },
        "id": "Yx1YIEb2xviL",
        "outputId": "d0fa3672-9f85-4a95-853d-5a5454c47292"
      },
      "execution_count": 3,
      "outputs": [
        {
          "output_type": "stream",
          "name": "stdout",
          "text": [
            "Collecting pulp\n",
            "  Downloading PuLP-2.9.0-py3-none-any.whl.metadata (5.4 kB)\n",
            "Downloading PuLP-2.9.0-py3-none-any.whl (17.7 MB)\n",
            "\u001b[2K   \u001b[90m━━━━━━━━━━━━━━━━━━━━━━━━━━━━━━━━━━━━━━━━\u001b[0m \u001b[32m17.7/17.7 MB\u001b[0m \u001b[31m79.4 MB/s\u001b[0m eta \u001b[36m0:00:00\u001b[0m\n",
            "\u001b[?25hInstalling collected packages: pulp\n",
            "Successfully installed pulp-2.9.0\n"
          ]
        }
      ]
    },
    {
      "cell_type": "code",
      "source": [
        "from pulp import LpMaximize, LpProblem, LpVariable\n",
        "\n",
        "model = LpProblem(name=\"maximize_profit\", sense=LpMaximize)\n",
        "\n",
        "x1 = LpVariable(name=\"Wheat_hectares\", lowBound=0)\n",
        "x2 = LpVariable(name=\"Barley_hectares\", lowBound=0)\n",
        "\n",
        "model += 50 * x1 + 120 * x2, \"Total_Profit\"\n",
        "\n",
        "model += 7000 * x1 + 2000 * x2 <= 700000, \"Budget_Constraint\"\n",
        "model += 10 * x1 + 30 * x2 <= 1200, \"Labor_Constraint\"\n",
        "model += x1 + x2 <= 110, \"Land_Constraint\"\n",
        "\n",
        "status = model.solve()\n",
        "\n",
        "print(f\"Status: {model.status}, {model.status}\")\n",
        "print(f\"Optimal Allocation:\")\n",
        "print(f\"  Wheat (x1): {x1.value()} hectares\")\n",
        "print(f\"  Barley (x2): {x2.value()} hectares\")\n",
        "print(f\"Maximum Profit: Rs. {model.objective.value()}\")\n"
      ],
      "metadata": {
        "colab": {
          "base_uri": "https://localhost:8080/"
        },
        "id": "6zIlRaMYoMZC",
        "outputId": "dd442c0a-1571-40fb-b766-6b930472d36c"
      },
      "execution_count": 4,
      "outputs": [
        {
          "output_type": "stream",
          "name": "stdout",
          "text": [
            "Status: 1, 1\n",
            "Optimal Allocation:\n",
            "  Wheat (x1): 97.894737 hectares\n",
            "  Barley (x2): 7.3684211 hectares\n",
            "Maximum Profit: Rs. 5778.947382\n"
          ]
        }
      ]
    }
  ]
}