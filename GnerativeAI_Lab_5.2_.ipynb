{
  "nbformat": 4,
  "nbformat_minor": 0,
  "metadata": {
    "colab": {
      "provenance": [],
      "authorship_tag": "ABX9TyOkaSaImzhGiiptY9lc/UTZ",
      "include_colab_link": true
    },
    "kernelspec": {
      "name": "python3",
      "display_name": "Python 3"
    },
    "language_info": {
      "name": "python"
    }
  },
  "cells": [
    {
      "cell_type": "markdown",
      "metadata": {
        "id": "view-in-github",
        "colab_type": "text"
      },
      "source": [
        "<a href=\"https://colab.research.google.com/github/2303A52454/Generative-AI_2025/blob/main/GnerativeAI_Lab_5.2_.ipynb\" target=\"_parent\"><img src=\"https://colab.research.google.com/assets/colab-badge.svg\" alt=\"Open In Colab\"/></a>"
      ]
    },
    {
      "cell_type": "code",
      "execution_count": 1,
      "metadata": {
        "colab": {
          "base_uri": "https://localhost:8080/"
        },
        "id": "GQ4UKXuog74k",
        "outputId": "c3e2acd8-6d96-4bf2-b1ea-20156bf6444c"
      },
      "outputs": [
        {
          "output_type": "stream",
          "name": "stdout",
          "text": [
            "Multi-Layer ANN:\n",
            "Final Hidden Weights: [[0.54014507 0.6943185  0.59301838]\n",
            " [0.53418844 0.3979183  0.63378617]]\n",
            "Final Hidden Bias: [0.41732412 0.84311662 0.94003329]\n",
            "Final Output Weights: [[-0.01158206]\n",
            " [ 0.35461348]\n",
            " [ 0.07896372]]\n",
            "Final Output Bias: [0.02499907]\n",
            "Test MSE: 2.5036315966477785e-06\n",
            "Enter x1: 0.2\n",
            "Enter x2: 0.3\n",
            "Predicted Output: [0.34480123]\n"
          ]
        }
      ],
      "source": [
        "import numpy as np\n",
        "\n",
        "x_train = np.array([\n",
        "    [0.1, 0.2],\n",
        "    [0.2, 0.3],\n",
        "    [0.3, 0.4],\n",
        "    [0.6, 0.7],\n",
        "    [0.7, 0.8],\n",
        "    [0.8, 0.9]\n",
        "])\n",
        "y_train = np.array([0.3432, 0.3490, 0.3548, 0.3720, 0.3776, 0.3832])\n",
        "\n",
        "x_test = np.array([\n",
        "    [0.4, 0.5],\n",
        "    [0.5, 0.6]\n",
        "])\n",
        "y_test = np.array([0.3606, 0.3663])\n",
        "\n",
        "np.random.seed(0)\n",
        "w_hidden = np.random.rand(2, 3)\n",
        "b_hidden = np.random.rand(3)\n",
        "w_output = np.random.rand(3, 1)\n",
        "b_output = np.random.rand(1)\n",
        "learning_rate = 0.01\n",
        "epochs = 1000\n",
        "\n",
        "def sigmoid(x):\n",
        "    return 1 / (1 + np.exp(-x))\n",
        "\n",
        "def sigmoid_derivative(x):\n",
        "    return x * (1 - x)\n",
        "\n",
        "def linear_activation(x):\n",
        "    return x\n",
        "\n",
        "for epoch in range(epochs):\n",
        "    hidden_input = np.dot(x_train, w_hidden) + b_hidden\n",
        "    hidden_output = sigmoid(hidden_input)\n",
        "    final_input = np.dot(hidden_output, w_output) + b_output\n",
        "    final_output = linear_activation(final_input)\n",
        "\n",
        "    error = final_output.flatten() - y_train\n",
        "    output_grad = error.reshape(-1, 1) / len(y_train)\n",
        "    w_output_grad = np.dot(hidden_output.T, output_grad)\n",
        "    b_output_grad = np.sum(output_grad)\n",
        "    hidden_error = np.dot(output_grad, w_output.T) * sigmoid_derivative(hidden_output)\n",
        "    w_hidden_grad = np.dot(x_train.T, hidden_error)\n",
        "    b_hidden_grad = np.sum(hidden_error, axis=0)\n",
        "\n",
        "    w_output -= learning_rate * w_output_grad\n",
        "    b_output -= learning_rate * b_output_grad\n",
        "    w_hidden -= learning_rate * w_hidden_grad\n",
        "    b_hidden -= learning_rate * b_hidden_grad\n",
        "\n",
        "hidden_test = sigmoid(np.dot(x_test, w_hidden) + b_hidden)\n",
        "y_test_pred = np.dot(hidden_test, w_output) + b_output\n",
        "test_mse = np.mean((y_test_pred.flatten() - y_test) ** 2)\n",
        "\n",
        "print(\"Multi-Layer ANN:\")\n",
        "print(f\"Final Hidden Weights: {w_hidden}\")\n",
        "print(f\"Final Hidden Bias: {b_hidden}\")\n",
        "print(f\"Final Output Weights: {w_output}\")\n",
        "print(f\"Final Output Bias: {b_output}\")\n",
        "print(f\"Test MSE: {test_mse}\")\n",
        "\n",
        "user_input = np.array([float(input(f\"Enter x{i+1}: \")) for i in range(2)])\n",
        "hidden_user = sigmoid(np.dot(user_input, w_hidden) + b_hidden)\n",
        "prediction = np.dot(hidden_user, w_output) + b_output\n",
        "print(f\"Predicted Output: {prediction.flatten()}\")\n"
      ]
    }
  ]
}